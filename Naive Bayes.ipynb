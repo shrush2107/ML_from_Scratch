{
 "cells": [
  {
   "cell_type": "markdown",
   "metadata": {},
   "source": [
    "### Naive Bayes (Gaussian NB)"
   ]
  },
  {
   "cell_type": "code",
   "execution_count": 1,
   "metadata": {},
   "outputs": [],
   "source": [
    "import numpy as np\n",
    "from sklearn.model_selection import train_test_split\n",
    "from sklearn import datasets"
   ]
  },
  {
   "cell_type": "code",
   "execution_count": 2,
   "metadata": {},
   "outputs": [],
   "source": [
    "X, y = datasets.make_classification(n_samples=1000, n_features=10, n_classes=2, random_state=123)\n",
    "X_train, X_test, y_train, y_test = train_test_split(X, y, test_size=0.2, random_state=123)"
   ]
  },
  {
   "cell_type": "code",
   "execution_count": 3,
   "metadata": {},
   "outputs": [],
   "source": [
    "# Function to train the Naive Bayes (calculating the mean, variance, and priors for each class)\n",
    "def fit_naive_bayes(X, y):\n",
    "    n_samples, n_features = X.shape\n",
    "    classes = np.unique(y)\n",
    "    n_classes = len(classes)\n",
    "\n",
    "    # Initialize arrays to store the mean, variance, and prior for each class\n",
    "    mean = np.zeros((n_classes, n_features), dtype=np.float64)\n",
    "    var = np.zeros((n_classes, n_features), dtype=np.float64)\n",
    "    priors = np.zeros(n_classes, dtype=np.float64)\n",
    "\n",
    "    # Calculate mean, variance, and prior for each class\n",
    "    for idx, c in enumerate(classes):\n",
    "        X_c = X[y == c]\n",
    "        mean[idx, :] = X_c.mean(axis=0)\n",
    "        var[idx, :] = X_c.var(axis=0)\n",
    "        # Calculate prior probability of the current class\n",
    "        priors[idx] = X_c.shape[0] / float(n_samples)\n",
    "\n",
    "    return mean, var, priors, classes"
   ]
  },
  {
   "cell_type": "code",
   "execution_count": 4,
   "metadata": {},
   "outputs": [],
   "source": [
    "# Function to calculate the Gaussian probability density function for a feature value\n",
    "def pdf(class_idx, x, mean, var):\n",
    "    numerator = np.exp(-((x - mean[class_idx]) ** 2) / (2 * var[class_idx]))\n",
    "    denominator = np.sqrt(2 * np.pi * var[class_idx])\n",
    "    return numerator / denominator"
   ]
  },
  {
   "cell_type": "code",
   "execution_count": 5,
   "metadata": {},
   "outputs": [],
   "source": [
    "# Function to predict the class label for a single data point\n",
    "def predict_single(x, mean, var, priors, classes):\n",
    "    posteriors = []\n",
    "\n",
    "    # Calculate the posterior probability for each class\n",
    "    for idx, _ in enumerate(classes):\n",
    "        # Calculate the log of the prior probability for the current class\n",
    "        prior = np.log(priors[idx])\n",
    "        # Calculate the sum of the log of the probability density function for all features\n",
    "        posterior = np.sum(np.log(pdf(idx, x, mean, var)))\n",
    "        \n",
    "        posterior = prior + posterior\n",
    "        posteriors.append(posterior)\n",
    "\n",
    "    return classes[np.argmax(posteriors)]"
   ]
  },
  {
   "cell_type": "code",
   "execution_count": 6,
   "metadata": {},
   "outputs": [],
   "source": [
    "# Function to predict class labels for input data using the trained Naive Bayes model\n",
    "def predict_naive_bayes(X, mean, var, priors, classes):\n",
    "    y_pred = [predict_single(x, mean, var, priors, classes) for x in X]\n",
    "    return np.array(y_pred)"
   ]
  },
  {
   "cell_type": "code",
   "execution_count": 7,
   "metadata": {},
   "outputs": [],
   "source": [
    "# Function to calculate the accuracy\n",
    "def accuracy(y_true, y_pred):\n",
    "    return np.sum(y_true == y_pred) / len(y_true)\n"
   ]
  },
  {
   "cell_type": "code",
   "execution_count": 8,
   "metadata": {},
   "outputs": [
    {
     "name": "stdout",
     "output_type": "stream",
     "text": [
      "Naive Bayes classification accuracy: 0.965\n"
     ]
    }
   ],
   "source": [
    "mean, var, priors, classes = fit_naive_bayes(X_train, y_train)\n",
    "predictions = predict_naive_bayes(X_test, mean, var, priors, classes)\n",
    "print(\"Naive Bayes classification accuracy:\", accuracy(y_test, predictions))"
   ]
  }
 ],
 "metadata": {
  "kernelspec": {
   "display_name": "Python 3",
   "language": "python",
   "name": "python3"
  },
  "language_info": {
   "codemirror_mode": {
    "name": "ipython",
    "version": 3
   },
   "file_extension": ".py",
   "mimetype": "text/x-python",
   "name": "python",
   "nbconvert_exporter": "python",
   "pygments_lexer": "ipython3",
   "version": "3.12.2"
  }
 },
 "nbformat": 4,
 "nbformat_minor": 2
}
