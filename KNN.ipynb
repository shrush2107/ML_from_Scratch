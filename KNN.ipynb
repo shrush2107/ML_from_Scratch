{
 "cells": [
  {
   "cell_type": "markdown",
   "metadata": {},
   "source": [
    "### KNN"
   ]
  },
  {
   "cell_type": "code",
   "execution_count": 1,
   "metadata": {},
   "outputs": [],
   "source": [
    "from collections import Counter\n",
    "import numpy as np\n",
    "from sklearn import datasets\n",
    "from sklearn.model_selection import train_test_split"
   ]
  },
  {
   "cell_type": "code",
   "execution_count": 8,
   "metadata": {},
   "outputs": [],
   "source": [
    "wine = datasets.load_wine()\n",
    "features, labels = wine.data, wine.target\n",
    "\n",
    "X_train, X_test, y_train, y_test = train_test_split(features, labels, test_size=0.2, random_state=67)"
   ]
  },
  {
   "cell_type": "code",
   "execution_count": 3,
   "metadata": {},
   "outputs": [],
   "source": [
    "#Calculate the Euclidean distance between two points.\n",
    "def euclidean_distance(x1, x2):\n",
    "    return np.sqrt(np.sum((x1 - x2) ** 2))"
   ]
  },
  {
   "cell_type": "code",
   "execution_count": 4,
   "metadata": {},
   "outputs": [],
   "source": [
    "def predict_single_knn(x, X_train, y_train, k):\n",
    "    # Compute distances between x and all examples in the training set\n",
    "    distances = [euclidean_distance(x, x_train) for x_train in X_train]\n",
    "    # Sort by distance and return indices of the first k neighbors\n",
    "    k_idx = np.argsort(distances)[:k]\n",
    "    # Extract the labels of the k nearest neighbor training samples\n",
    "    k_neighbor_labels = [y_train[i] for i in k_idx]\n",
    "    # Return the most common class label\n",
    "    most_common = Counter(k_neighbor_labels).most_common(1)\n",
    "    return most_common[0][0]"
   ]
  },
  {
   "cell_type": "code",
   "execution_count": 5,
   "metadata": {},
   "outputs": [],
   "source": [
    "#Predict labels for test features using k-Nearest Neighbors.\n",
    "def predict_knn(X_train, y_train, X_test, k=3):\n",
    "    y_pred = [predict_single_knn(x, X_train, y_train, k) for x in X_test]\n",
    "    return np.array(y_pred)"
   ]
  },
  {
   "cell_type": "code",
   "execution_count": 6,
   "metadata": {},
   "outputs": [],
   "source": [
    "def accuracy(y_true, y_pred):\n",
    "    return np.sum(y_true == y_pred) / len(y_true)"
   ]
  },
  {
   "cell_type": "code",
   "execution_count": 9,
   "metadata": {},
   "outputs": [
    {
     "name": "stdout",
     "output_type": "stream",
     "text": [
      "KNN classification accuracy: 0.8333333333333334\n"
     ]
    }
   ],
   "source": [
    "k = 3\n",
    "predictions = predict_knn(X_train, y_train, X_test, k)\n",
    "print(\"KNN classification accuracy:\", accuracy(y_test, predictions))"
   ]
  }
 ],
 "metadata": {
  "kernelspec": {
   "display_name": "Python 3",
   "language": "python",
   "name": "python3"
  },
  "language_info": {
   "codemirror_mode": {
    "name": "ipython",
    "version": 3
   },
   "file_extension": ".py",
   "mimetype": "text/x-python",
   "name": "python",
   "nbconvert_exporter": "python",
   "pygments_lexer": "ipython3",
   "version": "3.12.2"
  }
 },
 "nbformat": 4,
 "nbformat_minor": 2
}
